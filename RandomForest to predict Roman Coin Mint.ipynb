{
 "cells": [
  {
   "cell_type": "code",
   "execution_count": 244,
   "id": "17ba778e-e931-414a-83de-f05c2bcc4fec",
   "metadata": {},
   "outputs": [
    {
     "data": {
      "text/html": [
       "<div>\n",
       "<style scoped>\n",
       "    .dataframe tbody tr th:only-of-type {\n",
       "        vertical-align: middle;\n",
       "    }\n",
       "\n",
       "    .dataframe tbody tr th {\n",
       "        vertical-align: top;\n",
       "    }\n",
       "\n",
       "    .dataframe thead th {\n",
       "        text-align: right;\n",
       "    }\n",
       "</style>\n",
       "<table border=\"1\" class=\"dataframe\">\n",
       "  <thead>\n",
       "    <tr style=\"text-align: right;\">\n",
       "      <th></th>\n",
       "      <th>URI</th>\n",
       "      <th>Title</th>\n",
       "      <th>RecordId</th>\n",
       "      <th>ParentType URI</th>\n",
       "      <th>From Date</th>\n",
       "      <th>To Date</th>\n",
       "      <th>Deity</th>\n",
       "      <th>Denomination</th>\n",
       "      <th>Issuer</th>\n",
       "      <th>Manufacture</th>\n",
       "      <th>...</th>\n",
       "      <th>Obverse Right Field</th>\n",
       "      <th>Reverse Right Field</th>\n",
       "      <th>Obverse Exergue</th>\n",
       "      <th>Reverse Exergue</th>\n",
       "      <th>Obverse After Legend</th>\n",
       "      <th>Reverse Above, or Above and Below</th>\n",
       "      <th>Reverse Above, Below, or Both</th>\n",
       "      <th>Reverse Center</th>\n",
       "      <th>Reverse At Base</th>\n",
       "      <th>Date Record Modified</th>\n",
       "    </tr>\n",
       "  </thead>\n",
       "  <tbody>\n",
       "    <tr>\n",
       "      <th>0</th>\n",
       "      <td>http://numismatics.org/crro/id/rrc-1.1</td>\n",
       "      <td>RRC 1/1</td>\n",
       "      <td>rrc-1.1</td>\n",
       "      <td>NaN</td>\n",
       "      <td>-326</td>\n",
       "      <td>-242</td>\n",
       "      <td>NaN</td>\n",
       "      <td>Uncertain value</td>\n",
       "      <td>Anonymous</td>\n",
       "      <td>Struck</td>\n",
       "      <td>...</td>\n",
       "      <td>NaN</td>\n",
       "      <td>NaN</td>\n",
       "      <td>NaN</td>\n",
       "      <td>NaN</td>\n",
       "      <td>NaN</td>\n",
       "      <td>NaN</td>\n",
       "      <td>NaN</td>\n",
       "      <td>NaN</td>\n",
       "      <td>NaN</td>\n",
       "      <td>2024-02-22T09:49:38Z</td>\n",
       "    </tr>\n",
       "    <tr>\n",
       "      <th>1</th>\n",
       "      <td>http://numismatics.org/crro/id/rrc-2.1</td>\n",
       "      <td>RRC 2/1</td>\n",
       "      <td>rrc-2.1</td>\n",
       "      <td>NaN</td>\n",
       "      <td>-300</td>\n",
       "      <td>-300</td>\n",
       "      <td>NaN</td>\n",
       "      <td>Uncertain value</td>\n",
       "      <td>Anonymous</td>\n",
       "      <td>Struck</td>\n",
       "      <td>...</td>\n",
       "      <td>NaN</td>\n",
       "      <td>NaN</td>\n",
       "      <td>NaN</td>\n",
       "      <td>NaN</td>\n",
       "      <td>NaN</td>\n",
       "      <td>NaN</td>\n",
       "      <td>NaN</td>\n",
       "      <td>NaN</td>\n",
       "      <td>NaN</td>\n",
       "      <td>2024-02-22T09:49:42Z</td>\n",
       "    </tr>\n",
       "    <tr>\n",
       "      <th>2</th>\n",
       "      <td>http://numismatics.org/crro/id/rrc-3.1</td>\n",
       "      <td>RRC 3/1</td>\n",
       "      <td>rrc-3.1</td>\n",
       "      <td>NaN</td>\n",
       "      <td>-280</td>\n",
       "      <td>-242</td>\n",
       "      <td>NaN</td>\n",
       "      <td>NaN</td>\n",
       "      <td>Anonymous</td>\n",
       "      <td>Struck</td>\n",
       "      <td>...</td>\n",
       "      <td>NaN</td>\n",
       "      <td>NaN</td>\n",
       "      <td>NaN</td>\n",
       "      <td>NaN</td>\n",
       "      <td>NaN</td>\n",
       "      <td>NaN</td>\n",
       "      <td>NaN</td>\n",
       "      <td>NaN</td>\n",
       "      <td>NaN</td>\n",
       "      <td>2024-02-22T09:49:42Z</td>\n",
       "    </tr>\n",
       "    <tr>\n",
       "      <th>3</th>\n",
       "      <td>http://numismatics.org/crro/id/rrc-4.1</td>\n",
       "      <td>RRC 4/1</td>\n",
       "      <td>rrc-4.1</td>\n",
       "      <td>NaN</td>\n",
       "      <td>-280</td>\n",
       "      <td>-250</td>\n",
       "      <td>NaN</td>\n",
       "      <td>NaN</td>\n",
       "      <td>Anonymous</td>\n",
       "      <td>Struck</td>\n",
       "      <td>...</td>\n",
       "      <td>NaN</td>\n",
       "      <td>NaN</td>\n",
       "      <td>NaN</td>\n",
       "      <td>NaN</td>\n",
       "      <td>NaN</td>\n",
       "      <td>NaN</td>\n",
       "      <td>NaN</td>\n",
       "      <td>NaN</td>\n",
       "      <td>NaN</td>\n",
       "      <td>2024-02-22T09:49:43Z</td>\n",
       "    </tr>\n",
       "    <tr>\n",
       "      <th>4</th>\n",
       "      <td>http://numismatics.org/crro/id/rrc-5.1</td>\n",
       "      <td>RRC 5/1</td>\n",
       "      <td>rrc-5.1</td>\n",
       "      <td>NaN</td>\n",
       "      <td>-280</td>\n",
       "      <td>-250</td>\n",
       "      <td>NaN</td>\n",
       "      <td>NaN</td>\n",
       "      <td>Anonymous</td>\n",
       "      <td>Struck</td>\n",
       "      <td>...</td>\n",
       "      <td>NaN</td>\n",
       "      <td>NaN</td>\n",
       "      <td>NaN</td>\n",
       "      <td>NaN</td>\n",
       "      <td>NaN</td>\n",
       "      <td>NaN</td>\n",
       "      <td>NaN</td>\n",
       "      <td>NaN</td>\n",
       "      <td>NaN</td>\n",
       "      <td>2024-02-22T09:49:43Z</td>\n",
       "    </tr>\n",
       "  </tbody>\n",
       "</table>\n",
       "<p>5 rows × 47 columns</p>\n",
       "</div>"
      ],
      "text/plain": [
       "                                      URI    Title RecordId ParentType URI  \\\n",
       "0  http://numismatics.org/crro/id/rrc-1.1  RRC 1/1  rrc-1.1            NaN   \n",
       "1  http://numismatics.org/crro/id/rrc-2.1  RRC 2/1  rrc-2.1            NaN   \n",
       "2  http://numismatics.org/crro/id/rrc-3.1  RRC 3/1  rrc-3.1            NaN   \n",
       "3  http://numismatics.org/crro/id/rrc-4.1  RRC 4/1  rrc-4.1            NaN   \n",
       "4  http://numismatics.org/crro/id/rrc-5.1  RRC 5/1  rrc-5.1            NaN   \n",
       "\n",
       "   From Date  To Date Deity     Denomination     Issuer Manufacture  ...  \\\n",
       "0       -326     -242   NaN  Uncertain value  Anonymous      Struck  ...   \n",
       "1       -300     -300   NaN  Uncertain value  Anonymous      Struck  ...   \n",
       "2       -280     -242   NaN              NaN  Anonymous      Struck  ...   \n",
       "3       -280     -250   NaN              NaN  Anonymous      Struck  ...   \n",
       "4       -280     -250   NaN              NaN  Anonymous      Struck  ...   \n",
       "\n",
       "  Obverse Right Field Reverse Right Field Obverse Exergue Reverse Exergue  \\\n",
       "0                 NaN                 NaN             NaN             NaN   \n",
       "1                 NaN                 NaN             NaN             NaN   \n",
       "2                 NaN                 NaN             NaN             NaN   \n",
       "3                 NaN                 NaN             NaN             NaN   \n",
       "4                 NaN                 NaN             NaN             NaN   \n",
       "\n",
       "  Obverse After Legend Reverse Above, or Above and Below  \\\n",
       "0                  NaN                               NaN   \n",
       "1                  NaN                               NaN   \n",
       "2                  NaN                               NaN   \n",
       "3                  NaN                               NaN   \n",
       "4                  NaN                               NaN   \n",
       "\n",
       "  Reverse Above, Below, or Both Reverse Center Reverse At Base  \\\n",
       "0                           NaN            NaN             NaN   \n",
       "1                           NaN            NaN             NaN   \n",
       "2                           NaN            NaN             NaN   \n",
       "3                           NaN            NaN             NaN   \n",
       "4                           NaN            NaN             NaN   \n",
       "\n",
       "   Date Record Modified  \n",
       "0  2024-02-22T09:49:38Z  \n",
       "1  2024-02-22T09:49:42Z  \n",
       "2  2024-02-22T09:49:42Z  \n",
       "3  2024-02-22T09:49:43Z  \n",
       "4  2024-02-22T09:49:43Z  \n",
       "\n",
       "[5 rows x 47 columns]"
      ]
     },
     "execution_count": 244,
     "metadata": {},
     "output_type": "execute_result"
    }
   ],
   "source": [
    "#load the data\n",
    "import pandas as pd\n",
    "df=pd.read_csv(r'C:\\Users\\luluh\\Downloads/query.csv')\n",
    "df.head()"
   ]
  },
  {
   "cell_type": "code",
   "execution_count": 245,
   "id": "ff8cfec5-2ee9-4447-ad04-a6f1003dd259",
   "metadata": {},
   "outputs": [
    {
     "data": {
      "text/plain": [
       "Index(['URI', 'Title', 'RecordId', 'ParentType URI', 'From Date', 'To Date',\n",
       "       'Deity', 'Denomination', 'Issuer', 'Manufacture', 'Material', 'Mint',\n",
       "       'Object Type', 'Portrait', 'Region', 'State', 'Symbol_obv',\n",
       "       'Symbol_rev', 'Obverse Legend', 'Obverse Type', 'Reverse Legend',\n",
       "       'Reverse Type', 'Obverse Above', 'Reverse Above', 'Obverse Below',\n",
       "       'Reverse Below', 'Obverse Before', 'Reverse Before', 'Obverse Behind',\n",
       "       'Reverse Behind', 'Obverse Above or Behind', 'Obverse Behind or Before',\n",
       "       'Obverse Below or Behind', 'Obverse In Field', 'Reverse In Field',\n",
       "       'Obverse Left Field', 'Reverse Left Field', 'Obverse Right Field',\n",
       "       'Reverse Right Field', 'Obverse Exergue', 'Reverse Exergue',\n",
       "       'Obverse After Legend', 'Reverse Above, or Above and Below',\n",
       "       'Reverse Above, Below, or Both', 'Reverse Center', 'Reverse At Base',\n",
       "       'Date Record Modified'],\n",
       "      dtype='object')"
      ]
     },
     "execution_count": 245,
     "metadata": {},
     "output_type": "execute_result"
    }
   ],
   "source": [
    "#select the features I want\n",
    "df.columns"
   ]
  },
  {
   "cell_type": "code",
   "execution_count": 236,
   "id": "83d9db1c-1491-4af1-b72b-9ac8c79de30c",
   "metadata": {},
   "outputs": [
    {
     "data": {
      "text/plain": [
       "(2602, 47)"
      ]
     },
     "execution_count": 236,
     "metadata": {},
     "output_type": "execute_result"
    }
   ],
   "source": [
    "df.shape"
   ]
  },
  {
   "cell_type": "code",
   "execution_count": 246,
   "id": "8728e9f8-85f6-4e7f-be5c-55efed91b552",
   "metadata": {},
   "outputs": [],
   "source": [
    "#choosing Mint as the target feature, predicting which mint the coin was made at\n",
    "#keep the dataframe format\n",
    "df_target=df['Mint']"
   ]
  },
  {
   "cell_type": "code",
   "execution_count": 247,
   "id": "a5e67ad5-e0a5-460b-9c74-c3bb7ce3d669",
   "metadata": {},
   "outputs": [],
   "source": [
    "df_features=df[['From Date','To Date','Denomination','Issuer','Manufacture','Material','Object Type','Portrait','Region']]"
   ]
  },
  {
   "cell_type": "code",
   "execution_count": 248,
   "id": "7fbe6e8e-5fd1-4841-928c-0c560d963de0",
   "metadata": {},
   "outputs": [],
   "source": [
    "#combing two together first so that they end up having the same numbers of rows for data cleaning tasks\n",
    "df_combined=pd.concat([df_features,df_target],axis=1)"
   ]
  },
  {
   "cell_type": "code",
   "execution_count": 249,
   "id": "9599aa93-c77f-4968-b324-7a871a55dd52",
   "metadata": {},
   "outputs": [],
   "source": [
    "#drop the rows that has missing(null) values\n",
    "df_combined=df_combined.dropna()"
   ]
  },
  {
   "cell_type": "code",
   "execution_count": 250,
   "id": "9da4a2e6-ae65-4ab1-b158-f69d0ffc2ee5",
   "metadata": {},
   "outputs": [],
   "source": [
    "#now rows containing missing values have been dropped, we can create features and target\n",
    "df_features=df_combined.drop(columns=['Mint'])\n",
    "df_target=df_combined['Mint']"
   ]
  },
  {
   "cell_type": "code",
   "execution_count": 251,
   "id": "a9dbbaa6-a81d-490e-b7e9-7e0848deed3e",
   "metadata": {},
   "outputs": [
    {
     "name": "stdout",
     "output_type": "stream",
     "text": [
      "<class 'pandas.core.frame.DataFrame'>\n",
      "Index: 2100 entries, 0 to 2601\n",
      "Data columns (total 9 columns):\n",
      " #   Column        Non-Null Count  Dtype \n",
      "---  ------        --------------  ----- \n",
      " 0   From Date     2100 non-null   int64 \n",
      " 1   To Date       2100 non-null   int64 \n",
      " 2   Denomination  2100 non-null   object\n",
      " 3   Issuer        2100 non-null   object\n",
      " 4   Manufacture   2100 non-null   object\n",
      " 5   Material      2100 non-null   object\n",
      " 6   Object Type   2100 non-null   object\n",
      " 7   Portrait      2100 non-null   object\n",
      " 8   Region        2100 non-null   object\n",
      "dtypes: int64(2), object(7)\n",
      "memory usage: 164.1+ KB\n"
     ]
    }
   ],
   "source": [
    "df_features.info()"
   ]
  },
  {
   "cell_type": "code",
   "execution_count": 252,
   "id": "cf367ada-0fd9-4714-aac9-08c4f271806a",
   "metadata": {},
   "outputs": [],
   "source": [
    "#transform non-numerical objects to numerical using get_dummies apart from 'From Date' and 'To Date'\n",
    "df_features=pd.get_dummies(df_features,columns=['Denomination','Issuer','Manufacture','Material','Object Type','Portrait','Region'])"
   ]
  },
  {
   "cell_type": "code",
   "execution_count": 253,
   "id": "f97e5ac5-f330-4ba1-ae20-7a1110fd2421",
   "metadata": {},
   "outputs": [],
   "source": [
    "from sklearn.preprocessing import LabelEncoder\n",
    "label_encoder=LabelEncoder()\n",
    "df_target_encoded=label_encoder.fit_transform(df_target)"
   ]
  },
  {
   "cell_type": "code",
   "execution_count": 254,
   "id": "6269ae53-bb17-46f6-b317-fbe8ac62edaf",
   "metadata": {},
   "outputs": [
    {
     "name": "stdout",
     "output_type": "stream",
     "text": [
      "(2100, 613)\n",
      "(2100,)\n"
     ]
    }
   ],
   "source": [
    "print(df_features.shape)\n",
    "print(df_target_encoded.shape)"
   ]
  },
  {
   "cell_type": "code",
   "execution_count": 257,
   "id": "6b6d4c30-c300-471c-9d86-044020801aaf",
   "metadata": {},
   "outputs": [
    {
     "name": "stdout",
     "output_type": "stream",
     "text": [
      "[ 0  1  2  3  4  5  6  7  8  9 10 11 12 13]\n"
     ]
    }
   ],
   "source": [
    "print(np.unique(df_target_encoded))"
   ]
  },
  {
   "cell_type": "code",
   "execution_count": 260,
   "id": "e2ba7fdf-fb79-4382-b9a6-3cde0d5ade5c",
   "metadata": {},
   "outputs": [
    {
     "name": "stdout",
     "output_type": "stream",
     "text": [
      "['Antioch, Syria' 'Apollonia, Illyria' 'Canusium' 'Corcyra'\n",
      " 'Laodiceia ad Lycum' 'Luceria' 'Massalia' 'Metapontum' 'Neapolis' 'Rome'\n",
      " 'Salpesa' 'Sicily 1' 'Sicily 2' 'Uncertain value']\n"
     ]
    }
   ],
   "source": [
    "class_names=label_encoder.classes_\n",
    "print(class_names)"
   ]
  },
  {
   "cell_type": "code",
   "execution_count": 262,
   "id": "95c29e02-be47-472f-9650-cdbcc387cbe8",
   "metadata": {},
   "outputs": [],
   "source": [
    "#data is cleaned and ready to be trained\n",
    "#will be using RandomForest to train\n",
    "from sklearn.model_selection import train_test_split\n",
    "from sklearn.ensemble import RandomForestClassifier\n",
    "from sklearn.metrics import accuracy_score,classification_report,confusion_matrix\n",
    "import numpy as np"
   ]
  },
  {
   "cell_type": "code",
   "execution_count": 263,
   "id": "515a7261-43b3-4fa2-b562-2af132c820ca",
   "metadata": {},
   "outputs": [],
   "source": [
    "X=df_features\n",
    "y=df_target_encoded"
   ]
  },
  {
   "cell_type": "code",
   "execution_count": 264,
   "id": "ef5d8d29-17a4-45cf-b800-15aeb9053f6d",
   "metadata": {},
   "outputs": [],
   "source": [
    "#test_size 0.25 meaning 25% of the datasets used in testing whereas 75% used in training. random_state=17 ensured the same split of data is used\n",
    "X_train,X_test,y_train,y_test=train_test_split(X,y,test_size=0.25,random_state=17)"
   ]
  },
  {
   "cell_type": "code",
   "execution_count": 265,
   "id": "23908803-2006-4c31-82a9-b55c78d561e1",
   "metadata": {},
   "outputs": [
    {
     "data": {
      "text/html": [
       "<style>#sk-container-id-6 {\n",
       "  /* Definition of color scheme common for light and dark mode */\n",
       "  --sklearn-color-text: #000;\n",
       "  --sklearn-color-text-muted: #666;\n",
       "  --sklearn-color-line: gray;\n",
       "  /* Definition of color scheme for unfitted estimators */\n",
       "  --sklearn-color-unfitted-level-0: #fff5e6;\n",
       "  --sklearn-color-unfitted-level-1: #f6e4d2;\n",
       "  --sklearn-color-unfitted-level-2: #ffe0b3;\n",
       "  --sklearn-color-unfitted-level-3: chocolate;\n",
       "  /* Definition of color scheme for fitted estimators */\n",
       "  --sklearn-color-fitted-level-0: #f0f8ff;\n",
       "  --sklearn-color-fitted-level-1: #d4ebff;\n",
       "  --sklearn-color-fitted-level-2: #b3dbfd;\n",
       "  --sklearn-color-fitted-level-3: cornflowerblue;\n",
       "\n",
       "  /* Specific color for light theme */\n",
       "  --sklearn-color-text-on-default-background: var(--sg-text-color, var(--theme-code-foreground, var(--jp-content-font-color1, black)));\n",
       "  --sklearn-color-background: var(--sg-background-color, var(--theme-background, var(--jp-layout-color0, white)));\n",
       "  --sklearn-color-border-box: var(--sg-text-color, var(--theme-code-foreground, var(--jp-content-font-color1, black)));\n",
       "  --sklearn-color-icon: #696969;\n",
       "\n",
       "  @media (prefers-color-scheme: dark) {\n",
       "    /* Redefinition of color scheme for dark theme */\n",
       "    --sklearn-color-text-on-default-background: var(--sg-text-color, var(--theme-code-foreground, var(--jp-content-font-color1, white)));\n",
       "    --sklearn-color-background: var(--sg-background-color, var(--theme-background, var(--jp-layout-color0, #111)));\n",
       "    --sklearn-color-border-box: var(--sg-text-color, var(--theme-code-foreground, var(--jp-content-font-color1, white)));\n",
       "    --sklearn-color-icon: #878787;\n",
       "  }\n",
       "}\n",
       "\n",
       "#sk-container-id-6 {\n",
       "  color: var(--sklearn-color-text);\n",
       "}\n",
       "\n",
       "#sk-container-id-6 pre {\n",
       "  padding: 0;\n",
       "}\n",
       "\n",
       "#sk-container-id-6 input.sk-hidden--visually {\n",
       "  border: 0;\n",
       "  clip: rect(1px 1px 1px 1px);\n",
       "  clip: rect(1px, 1px, 1px, 1px);\n",
       "  height: 1px;\n",
       "  margin: -1px;\n",
       "  overflow: hidden;\n",
       "  padding: 0;\n",
       "  position: absolute;\n",
       "  width: 1px;\n",
       "}\n",
       "\n",
       "#sk-container-id-6 div.sk-dashed-wrapped {\n",
       "  border: 1px dashed var(--sklearn-color-line);\n",
       "  margin: 0 0.4em 0.5em 0.4em;\n",
       "  box-sizing: border-box;\n",
       "  padding-bottom: 0.4em;\n",
       "  background-color: var(--sklearn-color-background);\n",
       "}\n",
       "\n",
       "#sk-container-id-6 div.sk-container {\n",
       "  /* jupyter's `normalize.less` sets `[hidden] { display: none; }`\n",
       "     but bootstrap.min.css set `[hidden] { display: none !important; }`\n",
       "     so we also need the `!important` here to be able to override the\n",
       "     default hidden behavior on the sphinx rendered scikit-learn.org.\n",
       "     See: https://github.com/scikit-learn/scikit-learn/issues/21755 */\n",
       "  display: inline-block !important;\n",
       "  position: relative;\n",
       "}\n",
       "\n",
       "#sk-container-id-6 div.sk-text-repr-fallback {\n",
       "  display: none;\n",
       "}\n",
       "\n",
       "div.sk-parallel-item,\n",
       "div.sk-serial,\n",
       "div.sk-item {\n",
       "  /* draw centered vertical line to link estimators */\n",
       "  background-image: linear-gradient(var(--sklearn-color-text-on-default-background), var(--sklearn-color-text-on-default-background));\n",
       "  background-size: 2px 100%;\n",
       "  background-repeat: no-repeat;\n",
       "  background-position: center center;\n",
       "}\n",
       "\n",
       "/* Parallel-specific style estimator block */\n",
       "\n",
       "#sk-container-id-6 div.sk-parallel-item::after {\n",
       "  content: \"\";\n",
       "  width: 100%;\n",
       "  border-bottom: 2px solid var(--sklearn-color-text-on-default-background);\n",
       "  flex-grow: 1;\n",
       "}\n",
       "\n",
       "#sk-container-id-6 div.sk-parallel {\n",
       "  display: flex;\n",
       "  align-items: stretch;\n",
       "  justify-content: center;\n",
       "  background-color: var(--sklearn-color-background);\n",
       "  position: relative;\n",
       "}\n",
       "\n",
       "#sk-container-id-6 div.sk-parallel-item {\n",
       "  display: flex;\n",
       "  flex-direction: column;\n",
       "}\n",
       "\n",
       "#sk-container-id-6 div.sk-parallel-item:first-child::after {\n",
       "  align-self: flex-end;\n",
       "  width: 50%;\n",
       "}\n",
       "\n",
       "#sk-container-id-6 div.sk-parallel-item:last-child::after {\n",
       "  align-self: flex-start;\n",
       "  width: 50%;\n",
       "}\n",
       "\n",
       "#sk-container-id-6 div.sk-parallel-item:only-child::after {\n",
       "  width: 0;\n",
       "}\n",
       "\n",
       "/* Serial-specific style estimator block */\n",
       "\n",
       "#sk-container-id-6 div.sk-serial {\n",
       "  display: flex;\n",
       "  flex-direction: column;\n",
       "  align-items: center;\n",
       "  background-color: var(--sklearn-color-background);\n",
       "  padding-right: 1em;\n",
       "  padding-left: 1em;\n",
       "}\n",
       "\n",
       "\n",
       "/* Toggleable style: style used for estimator/Pipeline/ColumnTransformer box that is\n",
       "clickable and can be expanded/collapsed.\n",
       "- Pipeline and ColumnTransformer use this feature and define the default style\n",
       "- Estimators will overwrite some part of the style using the `sk-estimator` class\n",
       "*/\n",
       "\n",
       "/* Pipeline and ColumnTransformer style (default) */\n",
       "\n",
       "#sk-container-id-6 div.sk-toggleable {\n",
       "  /* Default theme specific background. It is overwritten whether we have a\n",
       "  specific estimator or a Pipeline/ColumnTransformer */\n",
       "  background-color: var(--sklearn-color-background);\n",
       "}\n",
       "\n",
       "/* Toggleable label */\n",
       "#sk-container-id-6 label.sk-toggleable__label {\n",
       "  cursor: pointer;\n",
       "  display: flex;\n",
       "  width: 100%;\n",
       "  margin-bottom: 0;\n",
       "  padding: 0.5em;\n",
       "  box-sizing: border-box;\n",
       "  text-align: center;\n",
       "  align-items: start;\n",
       "  justify-content: space-between;\n",
       "  gap: 0.5em;\n",
       "}\n",
       "\n",
       "#sk-container-id-6 label.sk-toggleable__label .caption {\n",
       "  font-size: 0.6rem;\n",
       "  font-weight: lighter;\n",
       "  color: var(--sklearn-color-text-muted);\n",
       "}\n",
       "\n",
       "#sk-container-id-6 label.sk-toggleable__label-arrow:before {\n",
       "  /* Arrow on the left of the label */\n",
       "  content: \"▸\";\n",
       "  float: left;\n",
       "  margin-right: 0.25em;\n",
       "  color: var(--sklearn-color-icon);\n",
       "}\n",
       "\n",
       "#sk-container-id-6 label.sk-toggleable__label-arrow:hover:before {\n",
       "  color: var(--sklearn-color-text);\n",
       "}\n",
       "\n",
       "/* Toggleable content - dropdown */\n",
       "\n",
       "#sk-container-id-6 div.sk-toggleable__content {\n",
       "  max-height: 0;\n",
       "  max-width: 0;\n",
       "  overflow: hidden;\n",
       "  text-align: left;\n",
       "  /* unfitted */\n",
       "  background-color: var(--sklearn-color-unfitted-level-0);\n",
       "}\n",
       "\n",
       "#sk-container-id-6 div.sk-toggleable__content.fitted {\n",
       "  /* fitted */\n",
       "  background-color: var(--sklearn-color-fitted-level-0);\n",
       "}\n",
       "\n",
       "#sk-container-id-6 div.sk-toggleable__content pre {\n",
       "  margin: 0.2em;\n",
       "  border-radius: 0.25em;\n",
       "  color: var(--sklearn-color-text);\n",
       "  /* unfitted */\n",
       "  background-color: var(--sklearn-color-unfitted-level-0);\n",
       "}\n",
       "\n",
       "#sk-container-id-6 div.sk-toggleable__content.fitted pre {\n",
       "  /* unfitted */\n",
       "  background-color: var(--sklearn-color-fitted-level-0);\n",
       "}\n",
       "\n",
       "#sk-container-id-6 input.sk-toggleable__control:checked~div.sk-toggleable__content {\n",
       "  /* Expand drop-down */\n",
       "  max-height: 200px;\n",
       "  max-width: 100%;\n",
       "  overflow: auto;\n",
       "}\n",
       "\n",
       "#sk-container-id-6 input.sk-toggleable__control:checked~label.sk-toggleable__label-arrow:before {\n",
       "  content: \"▾\";\n",
       "}\n",
       "\n",
       "/* Pipeline/ColumnTransformer-specific style */\n",
       "\n",
       "#sk-container-id-6 div.sk-label input.sk-toggleable__control:checked~label.sk-toggleable__label {\n",
       "  color: var(--sklearn-color-text);\n",
       "  background-color: var(--sklearn-color-unfitted-level-2);\n",
       "}\n",
       "\n",
       "#sk-container-id-6 div.sk-label.fitted input.sk-toggleable__control:checked~label.sk-toggleable__label {\n",
       "  background-color: var(--sklearn-color-fitted-level-2);\n",
       "}\n",
       "\n",
       "/* Estimator-specific style */\n",
       "\n",
       "/* Colorize estimator box */\n",
       "#sk-container-id-6 div.sk-estimator input.sk-toggleable__control:checked~label.sk-toggleable__label {\n",
       "  /* unfitted */\n",
       "  background-color: var(--sklearn-color-unfitted-level-2);\n",
       "}\n",
       "\n",
       "#sk-container-id-6 div.sk-estimator.fitted input.sk-toggleable__control:checked~label.sk-toggleable__label {\n",
       "  /* fitted */\n",
       "  background-color: var(--sklearn-color-fitted-level-2);\n",
       "}\n",
       "\n",
       "#sk-container-id-6 div.sk-label label.sk-toggleable__label,\n",
       "#sk-container-id-6 div.sk-label label {\n",
       "  /* The background is the default theme color */\n",
       "  color: var(--sklearn-color-text-on-default-background);\n",
       "}\n",
       "\n",
       "/* On hover, darken the color of the background */\n",
       "#sk-container-id-6 div.sk-label:hover label.sk-toggleable__label {\n",
       "  color: var(--sklearn-color-text);\n",
       "  background-color: var(--sklearn-color-unfitted-level-2);\n",
       "}\n",
       "\n",
       "/* Label box, darken color on hover, fitted */\n",
       "#sk-container-id-6 div.sk-label.fitted:hover label.sk-toggleable__label.fitted {\n",
       "  color: var(--sklearn-color-text);\n",
       "  background-color: var(--sklearn-color-fitted-level-2);\n",
       "}\n",
       "\n",
       "/* Estimator label */\n",
       "\n",
       "#sk-container-id-6 div.sk-label label {\n",
       "  font-family: monospace;\n",
       "  font-weight: bold;\n",
       "  display: inline-block;\n",
       "  line-height: 1.2em;\n",
       "}\n",
       "\n",
       "#sk-container-id-6 div.sk-label-container {\n",
       "  text-align: center;\n",
       "}\n",
       "\n",
       "/* Estimator-specific */\n",
       "#sk-container-id-6 div.sk-estimator {\n",
       "  font-family: monospace;\n",
       "  border: 1px dotted var(--sklearn-color-border-box);\n",
       "  border-radius: 0.25em;\n",
       "  box-sizing: border-box;\n",
       "  margin-bottom: 0.5em;\n",
       "  /* unfitted */\n",
       "  background-color: var(--sklearn-color-unfitted-level-0);\n",
       "}\n",
       "\n",
       "#sk-container-id-6 div.sk-estimator.fitted {\n",
       "  /* fitted */\n",
       "  background-color: var(--sklearn-color-fitted-level-0);\n",
       "}\n",
       "\n",
       "/* on hover */\n",
       "#sk-container-id-6 div.sk-estimator:hover {\n",
       "  /* unfitted */\n",
       "  background-color: var(--sklearn-color-unfitted-level-2);\n",
       "}\n",
       "\n",
       "#sk-container-id-6 div.sk-estimator.fitted:hover {\n",
       "  /* fitted */\n",
       "  background-color: var(--sklearn-color-fitted-level-2);\n",
       "}\n",
       "\n",
       "/* Specification for estimator info (e.g. \"i\" and \"?\") */\n",
       "\n",
       "/* Common style for \"i\" and \"?\" */\n",
       "\n",
       ".sk-estimator-doc-link,\n",
       "a:link.sk-estimator-doc-link,\n",
       "a:visited.sk-estimator-doc-link {\n",
       "  float: right;\n",
       "  font-size: smaller;\n",
       "  line-height: 1em;\n",
       "  font-family: monospace;\n",
       "  background-color: var(--sklearn-color-background);\n",
       "  border-radius: 1em;\n",
       "  height: 1em;\n",
       "  width: 1em;\n",
       "  text-decoration: none !important;\n",
       "  margin-left: 0.5em;\n",
       "  text-align: center;\n",
       "  /* unfitted */\n",
       "  border: var(--sklearn-color-unfitted-level-1) 1pt solid;\n",
       "  color: var(--sklearn-color-unfitted-level-1);\n",
       "}\n",
       "\n",
       ".sk-estimator-doc-link.fitted,\n",
       "a:link.sk-estimator-doc-link.fitted,\n",
       "a:visited.sk-estimator-doc-link.fitted {\n",
       "  /* fitted */\n",
       "  border: var(--sklearn-color-fitted-level-1) 1pt solid;\n",
       "  color: var(--sklearn-color-fitted-level-1);\n",
       "}\n",
       "\n",
       "/* On hover */\n",
       "div.sk-estimator:hover .sk-estimator-doc-link:hover,\n",
       ".sk-estimator-doc-link:hover,\n",
       "div.sk-label-container:hover .sk-estimator-doc-link:hover,\n",
       ".sk-estimator-doc-link:hover {\n",
       "  /* unfitted */\n",
       "  background-color: var(--sklearn-color-unfitted-level-3);\n",
       "  color: var(--sklearn-color-background);\n",
       "  text-decoration: none;\n",
       "}\n",
       "\n",
       "div.sk-estimator.fitted:hover .sk-estimator-doc-link.fitted:hover,\n",
       ".sk-estimator-doc-link.fitted:hover,\n",
       "div.sk-label-container:hover .sk-estimator-doc-link.fitted:hover,\n",
       ".sk-estimator-doc-link.fitted:hover {\n",
       "  /* fitted */\n",
       "  background-color: var(--sklearn-color-fitted-level-3);\n",
       "  color: var(--sklearn-color-background);\n",
       "  text-decoration: none;\n",
       "}\n",
       "\n",
       "/* Span, style for the box shown on hovering the info icon */\n",
       ".sk-estimator-doc-link span {\n",
       "  display: none;\n",
       "  z-index: 9999;\n",
       "  position: relative;\n",
       "  font-weight: normal;\n",
       "  right: .2ex;\n",
       "  padding: .5ex;\n",
       "  margin: .5ex;\n",
       "  width: min-content;\n",
       "  min-width: 20ex;\n",
       "  max-width: 50ex;\n",
       "  color: var(--sklearn-color-text);\n",
       "  box-shadow: 2pt 2pt 4pt #999;\n",
       "  /* unfitted */\n",
       "  background: var(--sklearn-color-unfitted-level-0);\n",
       "  border: .5pt solid var(--sklearn-color-unfitted-level-3);\n",
       "}\n",
       "\n",
       ".sk-estimator-doc-link.fitted span {\n",
       "  /* fitted */\n",
       "  background: var(--sklearn-color-fitted-level-0);\n",
       "  border: var(--sklearn-color-fitted-level-3);\n",
       "}\n",
       "\n",
       ".sk-estimator-doc-link:hover span {\n",
       "  display: block;\n",
       "}\n",
       "\n",
       "/* \"?\"-specific style due to the `<a>` HTML tag */\n",
       "\n",
       "#sk-container-id-6 a.estimator_doc_link {\n",
       "  float: right;\n",
       "  font-size: 1rem;\n",
       "  line-height: 1em;\n",
       "  font-family: monospace;\n",
       "  background-color: var(--sklearn-color-background);\n",
       "  border-radius: 1rem;\n",
       "  height: 1rem;\n",
       "  width: 1rem;\n",
       "  text-decoration: none;\n",
       "  /* unfitted */\n",
       "  color: var(--sklearn-color-unfitted-level-1);\n",
       "  border: var(--sklearn-color-unfitted-level-1) 1pt solid;\n",
       "}\n",
       "\n",
       "#sk-container-id-6 a.estimator_doc_link.fitted {\n",
       "  /* fitted */\n",
       "  border: var(--sklearn-color-fitted-level-1) 1pt solid;\n",
       "  color: var(--sklearn-color-fitted-level-1);\n",
       "}\n",
       "\n",
       "/* On hover */\n",
       "#sk-container-id-6 a.estimator_doc_link:hover {\n",
       "  /* unfitted */\n",
       "  background-color: var(--sklearn-color-unfitted-level-3);\n",
       "  color: var(--sklearn-color-background);\n",
       "  text-decoration: none;\n",
       "}\n",
       "\n",
       "#sk-container-id-6 a.estimator_doc_link.fitted:hover {\n",
       "  /* fitted */\n",
       "  background-color: var(--sklearn-color-fitted-level-3);\n",
       "}\n",
       "</style><div id=\"sk-container-id-6\" class=\"sk-top-container\"><div class=\"sk-text-repr-fallback\"><pre>RandomForestClassifier(random_state=17)</pre><b>In a Jupyter environment, please rerun this cell to show the HTML representation or trust the notebook. <br />On GitHub, the HTML representation is unable to render, please try loading this page with nbviewer.org.</b></div><div class=\"sk-container\" hidden><div class=\"sk-item\"><div class=\"sk-estimator fitted sk-toggleable\"><input class=\"sk-toggleable__control sk-hidden--visually\" id=\"sk-estimator-id-6\" type=\"checkbox\" checked><label for=\"sk-estimator-id-6\" class=\"sk-toggleable__label fitted sk-toggleable__label-arrow\"><div><div>RandomForestClassifier</div></div><div><a class=\"sk-estimator-doc-link fitted\" rel=\"noreferrer\" target=\"_blank\" href=\"https://scikit-learn.org/1.6/modules/generated/sklearn.ensemble.RandomForestClassifier.html\">?<span>Documentation for RandomForestClassifier</span></a><span class=\"sk-estimator-doc-link fitted\">i<span>Fitted</span></span></div></label><div class=\"sk-toggleable__content fitted\"><pre>RandomForestClassifier(random_state=17)</pre></div> </div></div></div></div>"
      ],
      "text/plain": [
       "RandomForestClassifier(random_state=17)"
      ]
     },
     "execution_count": 265,
     "metadata": {},
     "output_type": "execute_result"
    }
   ],
   "source": [
    "#model is an instance of class RandomForestClassifier. n_estimators means 100 tress are made and random_state=17 ensures reproducibility, meaning if I run the same code again, I'll get the same results every time.\n",
    "model=RandomForestClassifier(n_estimators=100,random_state=17)\n",
    "model.fit(X_train,y_train)"
   ]
  },
  {
   "cell_type": "code",
   "execution_count": 266,
   "id": "80fa7b9a-2639-44f2-85ac-528ca955d526",
   "metadata": {},
   "outputs": [],
   "source": [
    "#using test samples to predict\n",
    "y_pred=model.predict(X_test)"
   ]
  },
  {
   "cell_type": "code",
   "execution_count": 276,
   "id": "2b01a1cf-a3b7-432b-83e5-0984322edda0",
   "metadata": {},
   "outputs": [
    {
     "name": "stdout",
     "output_type": "stream",
     "text": [
      "Accuracy:0.9885714285714285\n"
     ]
    }
   ],
   "source": [
    "#generate the accuracy score which is number of correct predictions/total predictions\n",
    "accuracy=accuracy_score(y_test,y_pred)\n",
    "print(f'Accuracy:{accuracy}')"
   ]
  },
  {
   "cell_type": "code",
   "execution_count": 277,
   "id": "c7cd940e-6a61-4525-aac6-e8d48588ca4f",
   "metadata": {},
   "outputs": [
    {
     "name": "stdout",
     "output_type": "stream",
     "text": [
      "              precision    recall  f1-score   support\n",
      "\n",
      "           0       0.00      0.00      0.00         1\n",
      "           2       1.00      1.00      1.00         3\n",
      "           4       1.00      1.00      1.00         4\n",
      "           5       1.00      1.00      1.00        20\n",
      "           6       1.00      1.00      1.00         1\n",
      "           8       0.00      0.00      0.00         1\n",
      "           9       1.00      1.00      1.00       438\n",
      "          10       1.00      1.00      1.00         2\n",
      "          11       0.71      0.83      0.77         6\n",
      "          12       0.75      0.86      0.80         7\n",
      "          13       0.98      0.95      0.96        42\n",
      "\n",
      "    accuracy                           0.99       525\n",
      "   macro avg       0.77      0.79      0.78       525\n",
      "weighted avg       0.99      0.99      0.99       525\n",
      "\n"
     ]
    },
    {
     "name": "stderr",
     "output_type": "stream",
     "text": [
      "C:\\Users\\luluh\\AppData\\Local\\Programs\\Python\\Python313\\Lib\\site-packages\\sklearn\\metrics\\_classification.py:1565: UndefinedMetricWarning: Precision is ill-defined and being set to 0.0 in labels with no predicted samples. Use `zero_division` parameter to control this behavior.\n",
      "  _warn_prf(average, modifier, f\"{metric.capitalize()} is\", len(result))\n",
      "C:\\Users\\luluh\\AppData\\Local\\Programs\\Python\\Python313\\Lib\\site-packages\\sklearn\\metrics\\_classification.py:1565: UndefinedMetricWarning: Precision is ill-defined and being set to 0.0 in labels with no predicted samples. Use `zero_division` parameter to control this behavior.\n",
      "  _warn_prf(average, modifier, f\"{metric.capitalize()} is\", len(result))\n",
      "C:\\Users\\luluh\\AppData\\Local\\Programs\\Python\\Python313\\Lib\\site-packages\\sklearn\\metrics\\_classification.py:1565: UndefinedMetricWarning: Precision is ill-defined and being set to 0.0 in labels with no predicted samples. Use `zero_division` parameter to control this behavior.\n",
      "  _warn_prf(average, modifier, f\"{metric.capitalize()} is\", len(result))\n"
     ]
    }
   ],
   "source": [
    "#refer to below cell print(df_target.columns.tolist()) for the name of each class \n",
    "print(classification_report(y_test,y_pred))"
   ]
  },
  {
   "cell_type": "code",
   "execution_count": 278,
   "id": "95355efe-5888-4ee6-b575-1373e103f8a8",
   "metadata": {},
   "outputs": [],
   "source": [
    "from sklearn.tree import plot_tree\n",
    "import matplotlib.pyplot as plt"
   ]
  },
  {
   "cell_type": "code",
   "execution_count": 279,
   "id": "488251a8-6234-4004-b5b8-a83bb077959f",
   "metadata": {},
   "outputs": [
    {
     "data": {
      "image/png": "[encoded data removed]",
      "text/plain": [
       "<Figure size 640x480 with 1 Axes>"
      ]
     },
     "metadata": {},
     "output_type": "display_data"
    }
   ],
   "source": [
    "#only a single tree can be plotted. Thus, a variable needs to be made for this single tree first\n",
    "single_tree=model.estimators_[50]\n",
    "plot_tree(single_tree,filled=True)\n",
    "plt.show()"
   ]
  },
  {
   "cell_type": "code",
   "execution_count": 280,
   "id": "5b813b93-7973-42d8-8de3-90380142db45",
   "metadata": {},
   "outputs": [],
   "source": [
    "feature_importance=model.feature_importances_"
   ]
  },
  {
   "cell_type": "code",
   "execution_count": 281,
   "id": "75326198-60a2-4342-8121-9cc5bb1f10aa",
   "metadata": {},
   "outputs": [
    {
     "name": "stdout",
     "output_type": "stream",
     "text": [
      "                        Feature  Importance\n",
      "0                     From Date    0.125638\n",
      "1                       To Date    0.084799\n",
      "2            Denomination_20-As    0.000613\n",
      "3            Denomination_40-As    0.000004\n",
      "4            Denomination_60-As    0.000439\n",
      "..                          ...         ...\n",
      "608              Region_Lucania    0.002062\n",
      "609              Region_Phrygia    0.005210\n",
      "610             Region_Sardinia    0.015750\n",
      "611  Region_Seleucis and Pieria    0.000000\n",
      "612               Region_Sicily    0.053194\n",
      "\n",
      "[613 rows x 2 columns]\n"
     ]
    }
   ],
   "source": [
    "feature_importance_df=pd.DataFrame({'Feature':X_train.columns,'Importance':feature_importance})\n",
    "print(feature_importance_df)"
   ]
  },
  {
   "cell_type": "code",
   "execution_count": 282,
   "id": "1cf5118e-de51-4b39-9ca9-f3d3174a2dee",
   "metadata": {},
   "outputs": [
    {
     "name": "stdout",
     "output_type": "stream",
     "text": [
      "                           Feature  Importance\n",
      "607                  Region_Latium    0.225555\n",
      "0                        From Date    0.125638\n",
      "1                          To Date    0.084799\n",
      "596                  Region_Apulia    0.074492\n",
      "612                  Region_Sicily    0.053194\n",
      "..                             ...         ...\n",
      "139                 Issuer_Cetegus    0.000000\n",
      "40        Issuer_(Decimius) Flavus    0.000000\n",
      "42   Issuer_(Iuventius) Laterensis    0.000000\n",
      "7                 Denomination_Bes    0.000000\n",
      "557    Portrait_Roma||Jupiter||Sol    0.000000\n",
      "\n",
      "[613 rows x 2 columns]\n"
     ]
    }
   ],
   "source": [
    "feature_importance_df=feature_importance_df.sort_values(by='Importance', ascending=False)\n",
    "print(feature_importance_df)"
   ]
  },
  {
   "cell_type": "code",
   "execution_count": 283,
   "id": "b42dc346-625a-4631-80ef-62d731164855",
   "metadata": {},
   "outputs": [
    {
     "name": "stdout",
     "output_type": "stream",
     "text": [
      "                                        Feature  Importance\n",
      "607                               Region_Latium    0.225555\n",
      "0                                     From Date    0.125638\n",
      "1                                       To Date    0.084799\n",
      "596                               Region_Apulia    0.074492\n",
      "612                               Region_Sicily    0.053194\n",
      "63                             Issuer_Anonymous    0.029300\n",
      "600                              Region_Etruria    0.022814\n",
      "604                             Region_Hispania    0.022699\n",
      "176              Issuer_KA (Republican Moneyer)    0.018028\n",
      "610                             Region_Sardinia    0.015750\n",
      "606                                Region_Italy    0.015488\n",
      "595                               Region_Africa    0.015159\n",
      "301               Issuer_P (Republican Moneyer)    0.013556\n",
      "370                        Issuer_Sextus Pompey    0.011772\n",
      "599                            Region_Cyrenaica    0.010055\n",
      "552                     Portrait_Roma||Dioscuri    0.009181\n",
      "73           Issuer_Branch (Republican Moneyer)    0.008639\n",
      "376  Issuer_Staff and Club (Republican Moneyer)    0.008348\n",
      "355                            Issuer_Q. Oppius    0.008200\n",
      "403                             Material_Bronze    0.008181\n"
     ]
    }
   ],
   "source": [
    "top_features=feature_importance_df.nlargest(20,'Importance')\n",
    "print(top_features)"
   ]
  },
  {
   "cell_type": "code",
   "execution_count": 284,
   "id": "4129c4d3-234e-4bf6-b260-257ea22ec76a",
   "metadata": {},
   "outputs": [
    {
     "data": {
      "image/png": "[encoded data removed]",
      "text/plain": [
       "<Figure size 640x480 with 1 Axes>"
      ]
     },
     "metadata": {},
     "output_type": "display_data"
    }
   ],
   "source": [
    "plt.figure()\n",
    "plt.barh(top_features['Feature'],top_features['Importance'])\n",
    "plt.xlabel('Feature Importance Score')\n",
    "plt.ylabel('Features Name')\n",
    "plt.title('Top 20 Most Important Features')\n",
    "plt.gca().invert_yaxis()  # Keeps most important feature at the top\n",
    "plt.show()"
   ]
  },
  {
   "cell_type": "code",
   "execution_count": 299,
   "id": "afa21680-0ade-42dc-9581-a1a75af45901",
   "metadata": {},
   "outputs": [
    {
     "data": {
      "text/plain": [
       "numpy.ndarray"
      ]
     },
     "execution_count": 299,
     "metadata": {},
     "output_type": "execute_result"
    }
   ],
   "source": [
    "# Get the feature names used during training (this assumes you're using a model like RandomForest)\n",
    "feature_names=model.feature_names_in_\n",
    "type(feature_names)"
   ]
  },
  {
   "cell_type": "code",
   "execution_count": 294,
   "id": "8c7326e8-402b-41cf-97d8-2d5794b87613",
   "metadata": {},
   "outputs": [
    {
     "name": "stdout",
     "output_type": "stream",
     "text": [
      "   From Date  To Date  Region_Latium\n",
      "0        -31     -266              1\n"
     ]
    }
   ],
   "source": [
    "# Example of new data for prediction\n",
    "new_data = pd.DataFrame({'From Date':[-31],'To Date':[-266],'Region_Latium':[1]})\n",
    "print(new_data)"
   ]
  },
  {
   "cell_type": "code",
   "execution_count": 301,
   "id": "24910d58-6add-491b-b608-ab07f7a1d5ec",
   "metadata": {},
   "outputs": [
    {
     "name": "stdout",
     "output_type": "stream",
     "text": [
      "Predicted_Mint Index:[9]\n",
      "Predicted Mint: Rome\n"
     ]
    }
   ],
   "source": [
    "# Add missing features to new_data with default values (e.g., 0)\n",
    "for feature in feature_names:\n",
    "    if feature not in new_data.columns:\n",
    "        new_data[feature] = 0  # You can use np.nan if needed instead of 0\n",
    "\n",
    "# Re-order the columns of new_data to match the order in feature_names\n",
    "new_data = new_data[feature_names]\n",
    "\n",
    "# Use the trained model to predict the mint\n",
    "predicted_mint = model.predict(new_data)\n",
    "\n",
    "# If the target is label encoded, convert the numerical prediction to the original class name\n",
    "predicted_class = label_encoder.inverse_transform(predicted_mint)\n",
    "\n",
    "print(f'Predicted_Mint Index:{predicted_mint}')\n",
    "print(f\"Predicted Mint: {predicted_class[0]}\")"
   ]
  },
  {
   "cell_type": "code",
   "execution_count": null,
   "id": "f5a444a4-780d-4393-9913-0890a09bc0ad",
   "metadata": {},
   "outputs": [],
   "source": []
  }
 ],
 "metadata": {
  "kernelspec": {
   "display_name": "Python 3 (ipykernel)",
   "language": "python",
   "name": "python3"
  },
  "language_info": {
   "codemirror_mode": {
    "name": "ipython",
    "version": 3
   },
   "file_extension": ".py",
   "mimetype": "text/x-python",
   "name": "python",
   "nbconvert_exporter": "python",
   "pygments_lexer": "ipython3",
   "version": "3.13.2"
  }
 },
 "nbformat": 4,
 "nbformat_minor": 5
}
